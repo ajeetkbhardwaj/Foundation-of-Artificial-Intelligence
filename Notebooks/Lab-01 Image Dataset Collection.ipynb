{
 "cells": [
  {
   "cell_type": "markdown",
   "metadata": {},
   "source": [
    "# Lab-xx : Download the image dataset from different plateform for training models\n"
   ]
  },
  {
   "cell_type": "markdown",
   "metadata": {},
   "source": [
    "### Step-01 :"
   ]
  },
  {
   "cell_type": "code",
   "execution_count": null,
   "metadata": {},
   "outputs": [],
   "source": [
    "# install the google image download library\n",
    "!pip install git+https://github.com/Joeclinton1/google-images-download.git"
   ]
  },
  {
   "cell_type": "code",
   "execution_count": null,
   "metadata": {},
   "outputs": [],
   "source": [
    "# import the google image download\n",
    "from google_images_download import google_images_download"
   ]
  },
  {
   "cell_type": "code",
   "execution_count": null,
   "metadata": {},
   "outputs": [],
   "source": [
    "#let's class the class\n",
    "res = google_images_download.googleimagesdownload()\n",
    "args = {\"keywords\" : \"cycle, moter cycle, car, school bus\",\n",
    "        \"limit\": 10, \n",
    "        \"print_urls\": False}\n",
    "paths = res.download(args)\n",
    "print(paths)"
   ]
  },
  {
   "cell_type": "markdown",
   "metadata": {},
   "source": [
    "### Step-02"
   ]
  },
  {
   "cell_type": "code",
   "execution_count": null,
   "metadata": {},
   "outputs": [],
   "source": [
    "!pip install bing-image-downloader"
   ]
  },
  {
   "cell_type": "code",
   "execution_count": null,
   "metadata": {},
   "outputs": [],
   "source": [
    "from bing_image_downloader import downloader"
   ]
  },
  {
   "cell_type": "code",
   "execution_count": null,
   "metadata": {},
   "outputs": [],
   "source": [
    "downloader.download(\"dog\", limit=100, output_dir = 'dataset',\n",
    "                          adult_filter_off=True,force_replace=False, timeout=60)\n",
    "downloader.download(\"dog\", limit=100, output_dir = 'dataset',\n",
    "                          adult_filter_off=True,force_replace=False, timeout=60)"
   ]
  },
  {
   "cell_type": "markdown",
   "metadata": {},
   "source": [
    "### Step-03 : "
   ]
  },
  {
   "cell_type": "code",
   "execution_count": null,
   "metadata": {},
   "outputs": [],
   "source": [
    "import os\n",
    "import glob\n",
    "import cv2\n",
    "import numpy as np\n",
    "import matplotlib.pyplot as plt"
   ]
  },
  {
   "cell_type": "code",
   "execution_count": null,
   "metadata": {},
   "outputs": [],
   "source": [
    "images = []\n",
    "\n",
    "for dir_path in glob.glob(\"\"):\n",
    "    for img_path in glob.glob(os.path.join(dir_path, \"*.tif\")):\n",
    "        print(img_path)\n",
    "        img = cv2.imread(img_path, 1)       \n",
    "        images.append(img)\n",
    "\n",
    "# now converting list of images to array for image preprocessing\n",
    "train_images = np.array(images)\n",
    "\n",
    "train_images.shape"
   ]
  },
  {
   "cell_type": "code",
   "execution_count": null,
   "metadata": {},
   "outputs": [],
   "source": [
    "# masks/labels info as list\n",
    "labels = []\n",
    "for dir_path in glob.glob(\"\"):\n",
    "    for label_path in glob.glob(os.path.join(dir_path, \"*.tif\")):\n",
    "        print(label_path)\n",
    "        label = cv2.imread(label_path)\n",
    "        labels.append(label)\n",
    "\n",
    "train_labels = np.array(labels)\n",
    "train_labels.size"
   ]
  },
  {
   "cell_type": "markdown",
   "metadata": {},
   "source": []
  }
 ],
 "metadata": {
  "language_info": {
   "name": "python"
  }
 },
 "nbformat": 4,
 "nbformat_minor": 2
}
